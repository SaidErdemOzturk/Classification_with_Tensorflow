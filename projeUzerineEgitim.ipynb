{
 "cells": [
  {
   "cell_type": "code",
   "execution_count": 7,
   "metadata": {},
   "outputs": [
    {
     "name": "stdout",
     "output_type": "stream",
     "text": [
      "Found 285 images belonging to 3 classes.\n",
      "Found 92 images belonging to 3 classes.\n"
     ]
    }
   ],
   "source": [
    "import tensorflow\n",
    "import matplotlib.pyplot as plt\n",
    "\n",
    "model = tensorflow.keras.models.load_model(r\"C:\\Users\\daido\\Desktop\\python\\TestModellerim\\Model14.h5\")\n",
    "\n",
    "model.compile(loss='binary_crossentropy',\n",
    "              optimizer=tensorflow.keras.optimizers.RMSprop(lr=1e-5),\n",
    "              metrics=['acc'])\n",
    "\n",
    "egitim_yolu = r\"C:\\Users\\daido\\Desktop\\denemeTrain\"\n",
    "gecerleme_yolu = r\"C:\\Users\\daido\\Desktop\\python\\veriSeti\\Validation\"\n",
    "test_yolu = r\"C:\\Users\\daido\\Desktop\\python\\veriSeti\\Test\"\n",
    "\n",
    "train_datagen = tensorflow.keras.preprocessing.image.ImageDataGenerator(\n",
    "      rescale=1./255, # piksel değerleri 0-255'den 0-1 arasına getiriliyor.\n",
    "      rotation_range=40, # istenilen artırma işlemleri yapılabilir.\n",
    "      width_shift_range=0.2,\n",
    "      height_shift_range=0.2,\n",
    "      shear_range=0.2,\n",
    "      zoom_range=0.2,\n",
    "      horizontal_flip = False, #burası önemli, aynalama denebilir.\n",
    "      fill_mode='nearest'\n",
    "      )\n",
    "\n",
    "train_generator = train_datagen.flow_from_directory(\n",
    "        egitim_yolu,\n",
    "        target_size=(224, 224),\n",
    "        batch_size=16,\n",
    "        )\n",
    "\n",
    "# To validate the training process, we do not need augmented images.\n",
    "validation_datagen = tensorflow.keras.preprocessing.image.ImageDataGenerator(\n",
    "        rescale=1./255\n",
    "        )\n",
    "\n",
    "validation_generator = validation_datagen.flow_from_directory(\n",
    "        gecerleme_yolu,\n",
    "        target_size=(224, 224),\n",
    "        batch_size=16,\n",
    "        )"
   ]
  },
  {
   "cell_type": "code",
   "execution_count": 8,
   "metadata": {},
   "outputs": [],
   "source": [
    "class MyThresholdCallback(tensorflow.keras.callbacks.Callback):\n",
    "    def __init__(self, acc_limit,val_limit):\n",
    "        super(MyThresholdCallback, self).__init__()\n",
    "        self.acc_limit = acc_limit\n",
    "        self.val_limit = val_limit\n",
    "    def on_epoch_end(self, epoch, logs=None): \n",
    "        acc = logs[\"acc\"]\n",
    "        val_acc = logs[\"val_acc\"]\n",
    "        if val_acc >= self.val_limit :\n",
    "            if acc >= self.acc_limit :\n",
    "                self.model.stop_training = True\n",
    "\n",
    "callbacks = MyThresholdCallback(acc_limit=1, val_limit=1)\n"
   ]
  },
  {
   "cell_type": "code",
   "execution_count": 9,
   "metadata": {},
   "outputs": [
    {
     "name": "stdout",
     "output_type": "stream",
     "text": [
      "Epoch 1/10\n",
      "15/15 [==============================] - 47s 3s/step - loss: 0.3975 - acc: 0.8270 - val_loss: 1.1249 - val_acc: 0.6250\n",
      "Epoch 2/10\n",
      "15/15 [==============================] - 44s 3s/step - loss: 0.2189 - acc: 0.8875 - val_loss: 1.0971 - val_acc: 0.6250\n",
      "Epoch 3/10\n",
      "15/15 [==============================] - 44s 3s/step - loss: 0.1382 - acc: 0.9198 - val_loss: 0.3487 - val_acc: 0.8750\n",
      "Epoch 4/10\n",
      "15/15 [==============================] - 47s 3s/step - loss: 0.1214 - acc: 0.9241 - val_loss: 0.8633 - val_acc: 0.7500\n",
      "Epoch 5/10\n",
      "15/15 [==============================] - 48s 3s/step - loss: 0.1536 - acc: 0.9241 - val_loss: 0.2557 - val_acc: 0.8750\n",
      "Epoch 6/10\n",
      "15/15 [==============================] - 48s 3s/step - loss: 0.1064 - acc: 0.9409 - val_loss: 0.4260 - val_acc: 0.8125\n",
      "Epoch 7/10\n",
      "15/15 [==============================] - 48s 3s/step - loss: 0.0991 - acc: 0.9494 - val_loss: 0.6587 - val_acc: 0.8125\n",
      "Epoch 8/10\n",
      "15/15 [==============================] - 48s 3s/step - loss: 0.0983 - acc: 0.9494 - val_loss: 0.5224 - val_acc: 0.8750\n",
      "Epoch 9/10\n",
      "15/15 [==============================] - 48s 3s/step - loss: 0.0799 - acc: 0.9536 - val_loss: 0.6018 - val_acc: 0.7500\n",
      "Epoch 10/10\n",
      "15/15 [==============================] - 48s 3s/step - loss: 0.0802 - acc: 0.9578 - val_loss: 0.0398 - val_acc: 1.0000\n"
     ]
    }
   ],
   "source": [
    "\n",
    "history = model.fit( #eğitim takibi\n",
    "      train_generator,\n",
    "      steps_per_epoch=15,\n",
    "      epochs=10,\n",
    "      validation_data=validation_generator,\n",
    "      validation_steps=1,\n",
    "      callbacks=[callbacks]\n",
    "      )"
   ]
  },
  {
   "cell_type": "code",
   "execution_count": 10,
   "metadata": {},
   "outputs": [
    {
     "name": "stdout",
     "output_type": "stream",
     "text": [
      "Found 218 images belonging to 3 classes.\n"
     ]
    }
   ],
   "source": [
    "model.save(r'C:\\Users\\daido\\Desktop\\python\\TestModellerim\\Model14.h5')\n",
    "\n",
    "test_datagen = tensorflow.keras.preprocessing.image.ImageDataGenerator(\n",
    "        rescale=1./255\n",
    "        )\n",
    "\n",
    "test_generator = test_datagen.flow_from_directory(\n",
    "       test_yolu,\n",
    "        target_size=(224, 224),\n",
    "        batch_size=20,\n",
    "        )"
   ]
  },
  {
   "cell_type": "code",
   "execution_count": 11,
   "metadata": {},
   "outputs": [
    {
     "name": "stdout",
     "output_type": "stream",
     "text": [
      "dict_keys(['loss', 'acc', 'val_loss', 'val_acc'])\n"
     ]
    },
    {
     "data": {
      "image/png": "[encoded data removed]",
      "text/plain": [
       "<Figure size 432x288 with 1 Axes>"
      ]
     },
     "metadata": {
      "needs_background": "light"
     },
     "output_type": "display_data"
    },
    {
     "name": "stderr",
     "output_type": "stream",
     "text": [
      "C:\\Users\\daido\\AppData\\Local\\Temp\\ipykernel_12156\\1567553234.py:14: UserWarning: `Model.evaluate_generator` is deprecated and will be removed in a future version. Please use `Model.evaluate`, which supports generators.\n",
      "  test_loss, test_acc = model.evaluate_generator(test_generator, steps=50)\n"
     ]
    },
    {
     "name": "stdout",
     "output_type": "stream",
     "text": [
      "WARNING:tensorflow:Your input ran out of data; interrupting training. Make sure that your dataset or generator can generate at least `steps_per_epoch * epochs` batches (in this case, 50 batches). You may need to use the repeat() function when building your dataset.\n",
      "test acc: 0.8899082541465759\n"
     ]
    }
   ],
   "source": [
    "print(history.history.keys())\n",
    "#  \"Accuracy\"\n",
    "plt.plot(history.history['acc'])\n",
    "plt.plot(history.history['loss'])\n",
    "plt.plot(history.history['val_acc'])\n",
    "plt.plot(history.history['val_loss'])\n",
    "plt.title('model accuracy')\n",
    "plt.ylabel('accuracy')\n",
    "plt.xlabel('epoch')\n",
    "plt.legend(['train_acc', 'train_loss', 'validation_acc', 'validation_loss'], loc='upper left')\n",
    "plt.show()\n",
    "\n",
    "# Printing the test results.\n",
    "test_loss, test_acc = model.evaluate_generator(test_generator, steps=50)\n",
    "print('test acc:', test_acc)"
   ]
  }
 ],
 "metadata": {
  "interpreter": {
   "hash": "9884dc999380f9bf1a9b0fa4f55f164ea45912eb6e73b9e33debfc434eb39068"
  },
  "kernelspec": {
   "display_name": "Python 3.10.4 64-bit",
   "language": "python",
   "name": "python3"
  },
  "language_info": {
   "codemirror_mode": {
    "name": "ipython",
    "version": 3
   },
   "file_extension": ".py",
   "mimetype": "text/x-python",
   "name": "python",
   "nbconvert_exporter": "python",
   "pygments_lexer": "ipython3",
   "version": "3.10.4"
  },
  "orig_nbformat": 4
 },
 "nbformat": 4,
 "nbformat_minor": 2
}
