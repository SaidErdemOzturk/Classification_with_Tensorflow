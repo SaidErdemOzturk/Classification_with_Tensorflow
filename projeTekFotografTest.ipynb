{
 "cells": [
  {
   "cell_type": "code",
   "execution_count": null,
   "metadata": {},
   "outputs": [],
   "source": [
    "import cv2\n",
    "import tensorflow as tf\n",
    "\n",
    "Categories = [\"Closed\",\"Left\",\"Right\"]\n",
    "\n",
    "def prepare(filepath):\n",
    "    img_size = 224\n",
    "    img_array = cv2.imread(filepath)\n",
    "    new_array = cv2.resize(img_array,(img_size,img_size),2)\n",
    "    return new_array.reshape(-1,img_size,img_size,2)\n",
    "\n",
    "model = tf.keras.models.load_model(r\"C:\\Users\\daido\\Desktop\\python\\TestModellerim\\Model1.h5\")\n",
    "\n",
    "prediction = model.predict([prepare(r'C:\\Users\\daido\\Desktop\\python\\WhatsApp Image 2022-05-24 at 16.11.54.jpeg')])\n",
    "\n",
    "max = -1\n",
    "indis = -1\n",
    "for x in range(3):\n",
    "    if prediction[0][x]>max:\n",
    "        indis = x\n",
    "        max = prediction[0][x]\n",
    "\n",
    "dizi =[\"Kapalı\", \"Sol Göz\", \"Sağ\"]\n",
    "print(dizi[indis])"
   ]
  }
 ],
 "metadata": {
  "interpreter": {
   "hash": "9884dc999380f9bf1a9b0fa4f55f164ea45912eb6e73b9e33debfc434eb39068"
  },
  "kernelspec": {
   "display_name": "Python 3.10.4 64-bit",
   "language": "python",
   "name": "python3"
  },
  "language_info": {
   "name": "python",
   "version": "3.10.4"
  },
  "orig_nbformat": 4
 },
 "nbformat": 4,
 "nbformat_minor": 2
}
