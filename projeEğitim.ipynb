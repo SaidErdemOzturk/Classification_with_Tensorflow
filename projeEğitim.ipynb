{
 "cells": [
  {
   "cell_type": "code",
   "execution_count": 1,
   "metadata": {},
   "outputs": [],
   "source": [
    "import tensorflow\n",
    "import matplotlib.pyplot as plt\n",
    "from keras.callbacks import EarlyStopping\n",
    "from keras.applications.vgg16 import VGG16\n",
    "#vgg16 imagenet kullanmak için gereklidir\n",
    "imagenetModel = VGG16(weights='imagenet',\n",
    "                  include_top=False,\n",
    "                  input_shape=(224, 224, 3)\n",
    "                  )\n",
    "\n",
    "#imagenetModel.summary()"
   ]
  },
  {
   "cell_type": "code",
   "execution_count": 2,
   "metadata": {},
   "outputs": [
    {
     "name": "stdout",
     "output_type": "stream",
     "text": [
      "Model: \"sequential\"\n",
      "_________________________________________________________________\n",
      " Layer (type)                Output Shape              Param #   \n",
      "=================================================================\n",
      " vgg16 (Functional)          (None, 7, 7, 512)         14714688  \n",
      "                                                                 \n",
      " flatten (Flatten)           (None, 25088)             0         \n",
      "                                                                 \n",
      " dense (Dense)               (None, 256)               6422784   \n",
      "                                                                 \n",
      " dense_1 (Dense)             (None, 3)                 771       \n",
      "                                                                 \n",
      "=================================================================\n",
      "Total params: 21,138,243\n",
      "Trainable params: 11,143,171\n",
      "Non-trainable params: 9,995,072\n",
      "_________________________________________________________________\n"
     ]
    },
    {
     "name": "stderr",
     "output_type": "stream",
     "text": [
      "c:\\Users\\daido\\AppData\\Local\\Programs\\Python\\Python310\\lib\\site-packages\\keras\\optimizers\\optimizer_v2\\rmsprop.py:135: UserWarning: The `lr` argument is deprecated, use `learning_rate` instead.\n",
      "  super(RMSprop, self).__init__(name, **kwargs)\n"
     ]
    }
   ],
   "source": [
    "#ozellikcıkaranmodelimizde imagenet ten hazır aldığımız cnn ağımız var\n",
    "#bu kısımda bizim kullanacağımız 3 tane özellik olduğundan dolayı en son 3 katmanı öğrenebilir hale getiriyoruz.\n",
    "#verimiz baştan sona doğru okunuyor\n",
    "#flatten--birden fazla vektör ile gelen veriyi tek boyuta indiriyor.\n",
    "#dense ile kendinden sonraki tüm noktalara bağlı olduğunu söylüyoruz\n",
    "\n",
    "#üstteki 256 256 tane nöronu temsil ediyor \n",
    "#relu - ??\n",
    "#buradaki 3 bize lazım olan çıktı için.(kapalı/sol/sağ)- softmax çıktıları 0 ile 1 arasına sıkıştırıyor.\n",
    "\n",
    "\n",
    "imagenetModel.trainable = True\n",
    "set_trainable = False\n",
    "for layer in imagenetModel.layers:\n",
    "    if layer.name == 'block5_conv1':\n",
    "        set_trainable = True\n",
    "    if set_trainable:\n",
    "        layer.trainable = True\n",
    "    else:\n",
    "        layer.trainable = False\n",
    "model = tensorflow.keras.models.Sequential()\n",
    "model.add(imagenetModel)\n",
    "model.add(tensorflow.keras.layers.Flatten())\n",
    "model.add(tensorflow.keras.layers.Dense(256,activation='relu'))\n",
    "model.add(tensorflow.keras.layers.Dense(4,activation='softmax'))\n",
    "model.compile(loss='binary_crossentropy',\n",
    "              optimizer=tensorflow.keras.optimizers.RMSprop(lr=1e-5),\n",
    "              metrics=['acc'])\n",
    "\n",
    "\n",
    "#compile -- loss - hata fonksiyonumuz.\n",
    "#optimizer - modelim kendinini nasıl geliştirmeli. \n",
    "#metrics - performans değeri burda tutulacak\n",
    "#binary_Crossentropy -- 0 ve 1 çıktılarını kontrol eder. beklenen değerden uzaklığına göre ceza puanı verir\n",
    "\n",
    "\n",
    "\n",
    "model.summary()\n"
   ]
  },
  {
   "cell_type": "code",
   "execution_count": 3,
   "metadata": {},
   "outputs": [
    {
     "name": "stdout",
     "output_type": "stream",
     "text": [
      "Found 815 images belonging to 3 classes.\n",
      "Found 92 images belonging to 3 classes.\n"
     ]
    }
   ],
   "source": [
    "#bu kısım veri çoğaltma kısmıdır.\n",
    "\n",
    "egitim_yolu = r'C:\\Users\\daido\\Desktop\\python\\veriSeti\\Train'\n",
    "gecerleme_yolu = r'C:\\Users\\daido\\Desktop\\python\\veriSeti\\Validation'\n",
    "test_yolu = r'C:\\Users\\daido\\Desktop\\python\\veriSeti\\Test'\n",
    "train_datagen = tensorflow.keras.preprocessing.image.ImageDataGenerator(\n",
    "      rescale=1./255, \n",
    "      rotation_range=40, \n",
    "      width_shift_range=0.2,\n",
    "      height_shift_range=0.2,\n",
    "      shear_range=0.2,\n",
    "      brightness_range = [0.2,1.0],\n",
    "      zoom_range=0.2,\n",
    "      horizontal_flip = False,\n",
    "      fill_mode='nearest'\n",
    "      )\n",
    "train_generator = train_datagen.flow_from_directory(\n",
    "        egitim_yolu,\n",
    "        target_size=(224, 224),\n",
    "        batch_size=16,\n",
    "        )\n",
    "validation_datagen = tensorflow.keras.preprocessing.image.ImageDataGenerator(\n",
    "        rescale=1./255\n",
    "        )\n",
    "validation_generator = validation_datagen.flow_from_directory(\n",
    "        gecerleme_yolu,\n",
    "        target_size=(224, 224),\n",
    "        batch_size=16,\n",
    "        )"
   ]
  },
  {
   "cell_type": "code",
   "execution_count": 4,
   "metadata": {},
   "outputs": [],
   "source": [
    "class MyThresholdCallback(tensorflow.keras.callbacks.Callback):\n",
    "    def __init__(self, acc_limit,val_limit):\n",
    "        super(MyThresholdCallback, self).__init__()\n",
    "        self.acc_limit = acc_limit\n",
    "        self.val_limit = val_limit\n",
    "    def on_epoch_end(self, epoch, logs=None): \n",
    "        acc = logs[\"acc\"]\n",
    "        val_acc = logs[\"val_acc\"]\n",
    "        if val_acc >= self.val_limit :\n",
    "            if acc >= self.acc_limit :\n",
    "                self.model.stop_training = True\n",
    "\n",
    "callbacks = MyThresholdCallback(acc_limit=0.9, val_limit=0.9)\n",
    "\n",
    "\n"
   ]
  },
  {
   "cell_type": "code",
   "execution_count": 5,
   "metadata": {},
   "outputs": [
    {
     "name": "stdout",
     "output_type": "stream",
     "text": [
      "Epoch 1/50\n",
      "15/15 [==============================] - 50s 3s/step - loss: 0.6460 - acc: 0.3515 - val_loss: 0.6330 - val_acc: 0.5000\n",
      "Epoch 2/50\n",
      "15/15 [==============================] - 48s 3s/step - loss: 0.6225 - acc: 0.4333 - val_loss: 0.6343 - val_acc: 0.5000\n",
      "Epoch 3/50\n",
      "15/15 [==============================] - 48s 3s/step - loss: 0.6240 - acc: 0.4100 - val_loss: 0.7430 - val_acc: 0.1875\n",
      "Epoch 4/50\n",
      "15/15 [==============================] - 55s 4s/step - loss: 0.6074 - acc: 0.4750 - val_loss: 0.5727 - val_acc: 0.5625\n",
      "Epoch 5/50\n",
      "15/15 [==============================] - 55s 4s/step - loss: 0.6011 - acc: 0.4792 - val_loss: 0.6862 - val_acc: 0.2500\n",
      "Epoch 6/50\n",
      "15/15 [==============================] - 51s 3s/step - loss: 0.6054 - acc: 0.4375 - val_loss: 0.6034 - val_acc: 0.5000\n",
      "Epoch 7/50\n",
      "15/15 [==============================] - 54s 4s/step - loss: 0.5932 - acc: 0.5208 - val_loss: 0.5778 - val_acc: 0.4375\n",
      "Epoch 8/50\n",
      "15/15 [==============================] - 52s 3s/step - loss: 0.5897 - acc: 0.5042 - val_loss: 0.6106 - val_acc: 0.4375\n",
      "Epoch 9/50\n",
      "15/15 [==============================] - 53s 4s/step - loss: 0.5777 - acc: 0.5125 - val_loss: 0.5855 - val_acc: 0.4375\n",
      "Epoch 10/50\n",
      "15/15 [==============================] - 46s 3s/step - loss: 0.5664 - acc: 0.5439 - val_loss: 0.4871 - val_acc: 0.8125\n",
      "Epoch 11/50\n",
      "15/15 [==============================] - 44s 3s/step - loss: 0.5632 - acc: 0.5417 - val_loss: 0.5120 - val_acc: 0.5625\n",
      "Epoch 12/50\n",
      "15/15 [==============================] - 44s 3s/step - loss: 0.5544 - acc: 0.5917 - val_loss: 0.5376 - val_acc: 0.3750\n",
      "Epoch 13/50\n",
      "15/15 [==============================] - 44s 3s/step - loss: 0.5632 - acc: 0.5523 - val_loss: 0.4290 - val_acc: 0.7500\n",
      "Epoch 14/50\n",
      "15/15 [==============================] - 44s 3s/step - loss: 0.5398 - acc: 0.5774 - val_loss: 0.4608 - val_acc: 0.6250\n",
      "Epoch 15/50\n",
      "15/15 [==============================] - 50s 3s/step - loss: 0.5253 - acc: 0.6234 - val_loss: 0.6020 - val_acc: 0.4375\n",
      "Epoch 16/50\n",
      "15/15 [==============================] - 54s 4s/step - loss: 0.5710 - acc: 0.5208 - val_loss: 0.7593 - val_acc: 0.3125\n",
      "Epoch 17/50\n",
      "15/15 [==============================] - 55s 4s/step - loss: 0.5477 - acc: 0.5458 - val_loss: 0.4499 - val_acc: 0.8125\n",
      "Epoch 18/50\n",
      "15/15 [==============================] - 48s 3s/step - loss: 0.5525 - acc: 0.5667 - val_loss: 0.5327 - val_acc: 0.6875\n",
      "Epoch 19/50\n",
      "15/15 [==============================] - 52s 3s/step - loss: 0.5318 - acc: 0.6000 - val_loss: 0.6062 - val_acc: 0.5000\n",
      "Epoch 20/50\n",
      "15/15 [==============================] - 57s 4s/step - loss: 0.5089 - acc: 0.6375 - val_loss: 0.5803 - val_acc: 0.5625\n",
      "Epoch 21/50\n",
      "15/15 [==============================] - 56s 4s/step - loss: 0.5353 - acc: 0.6109 - val_loss: 0.5543 - val_acc: 0.6875\n",
      "Epoch 22/50\n",
      "15/15 [==============================] - 54s 4s/step - loss: 0.5191 - acc: 0.6375 - val_loss: 0.5348 - val_acc: 0.5000\n",
      "Epoch 23/50\n",
      "15/15 [==============================] - 52s 3s/step - loss: 0.4892 - acc: 0.6875 - val_loss: 0.6924 - val_acc: 0.3750\n",
      "Epoch 24/50\n",
      "15/15 [==============================] - 55s 4s/step - loss: 0.5054 - acc: 0.6402 - val_loss: 0.3659 - val_acc: 0.7500\n",
      "Epoch 25/50\n",
      "15/15 [==============================] - 58s 4s/step - loss: 0.5132 - acc: 0.6276 - val_loss: 0.6240 - val_acc: 0.5000\n",
      "Epoch 26/50\n",
      "15/15 [==============================] - 54s 4s/step - loss: 0.4975 - acc: 0.6208 - val_loss: 0.5291 - val_acc: 0.5625\n",
      "Epoch 27/50\n",
      "15/15 [==============================] - 53s 4s/step - loss: 0.4889 - acc: 0.6485 - val_loss: 0.5655 - val_acc: 0.5625\n",
      "Epoch 28/50\n",
      "15/15 [==============================] - 48s 3s/step - loss: 0.5069 - acc: 0.6276 - val_loss: 0.4342 - val_acc: 0.6875\n",
      "Epoch 29/50\n",
      "15/15 [==============================] - 49s 3s/step - loss: 0.4757 - acc: 0.6527 - val_loss: 0.4533 - val_acc: 0.6250\n",
      "Epoch 30/50\n",
      "15/15 [==============================] - 64s 4s/step - loss: 0.4781 - acc: 0.6778 - val_loss: 0.5325 - val_acc: 0.6250\n",
      "Epoch 31/50\n",
      "15/15 [==============================] - 69s 5s/step - loss: 0.4924 - acc: 0.6527 - val_loss: 0.4671 - val_acc: 0.6250\n",
      "Epoch 32/50\n",
      "15/15 [==============================] - 50s 3s/step - loss: 0.4718 - acc: 0.6833 - val_loss: 0.5335 - val_acc: 0.6875\n",
      "Epoch 33/50\n",
      "15/15 [==============================] - 51s 3s/step - loss: 0.4733 - acc: 0.6833 - val_loss: 0.5573 - val_acc: 0.5000\n",
      "Epoch 34/50\n",
      "15/15 [==============================] - 49s 3s/step - loss: 0.4858 - acc: 0.6500 - val_loss: 0.5308 - val_acc: 0.6875\n",
      "Epoch 35/50\n",
      "15/15 [==============================] - 44s 3s/step - loss: 0.4483 - acc: 0.6653 - val_loss: 0.4530 - val_acc: 0.7500\n",
      "Epoch 36/50\n",
      "15/15 [==============================] - 44s 3s/step - loss: 0.4534 - acc: 0.6708 - val_loss: 0.5237 - val_acc: 0.6250\n",
      "Epoch 37/50\n",
      "15/15 [==============================] - 44s 3s/step - loss: 0.4907 - acc: 0.6109 - val_loss: 0.6402 - val_acc: 0.6250\n",
      "Epoch 38/50\n",
      "15/15 [==============================] - 44s 3s/step - loss: 0.4235 - acc: 0.7364 - val_loss: 0.7489 - val_acc: 0.3750\n",
      "Epoch 39/50\n",
      "15/15 [==============================] - 44s 3s/step - loss: 0.4593 - acc: 0.6875 - val_loss: 0.4244 - val_acc: 0.6875\n",
      "Epoch 40/50\n",
      "15/15 [==============================] - 44s 3s/step - loss: 0.4308 - acc: 0.6958 - val_loss: 0.4487 - val_acc: 0.6875\n",
      "Epoch 41/50\n",
      "15/15 [==============================] - 44s 3s/step - loss: 0.4495 - acc: 0.6750 - val_loss: 0.3376 - val_acc: 0.7500\n",
      "Epoch 42/50\n",
      "15/15 [==============================] - 44s 3s/step - loss: 0.4388 - acc: 0.7208 - val_loss: 0.3915 - val_acc: 0.7500\n",
      "Epoch 43/50\n",
      "15/15 [==============================] - 43s 3s/step - loss: 0.4191 - acc: 0.7406 - val_loss: 0.3012 - val_acc: 0.8125\n",
      "Epoch 44/50\n",
      "15/15 [==============================] - 43s 3s/step - loss: 0.4130 - acc: 0.7083 - val_loss: 0.4897 - val_acc: 0.6250\n",
      "Epoch 45/50\n",
      "15/15 [==============================] - 43s 3s/step - loss: 0.4592 - acc: 0.6917 - val_loss: 0.5629 - val_acc: 0.4375\n",
      "Epoch 46/50\n",
      "15/15 [==============================] - 46s 3s/step - loss: 0.4289 - acc: 0.7155 - val_loss: 0.3819 - val_acc: 0.8125\n",
      "Epoch 47/50\n",
      "15/15 [==============================] - 60s 4s/step - loss: 0.4233 - acc: 0.7250 - val_loss: 0.4486 - val_acc: 0.6875\n",
      "Epoch 48/50\n",
      "15/15 [==============================] - 45s 3s/step - loss: 0.4160 - acc: 0.7333 - val_loss: 0.5471 - val_acc: 0.5000\n",
      "Epoch 49/50\n",
      "15/15 [==============================] - 44s 3s/step - loss: 0.4228 - acc: 0.7197 - val_loss: 0.7037 - val_acc: 0.5000\n",
      "Epoch 50/50\n",
      "15/15 [==============================] - 43s 3s/step - loss: 0.4453 - acc: 0.6862 - val_loss: 0.4647 - val_acc: 0.6875\n"
     ]
    }
   ],
   "source": [
    "#model oluşturma kısmımız aşağıda eğitim yapıyoruz yaptıgımız eğitimin sonunda oluşan modeli history e atıyoruz\n",
    "#history e attığımızda aşağıda bu modelimizin hata oranı vs gibi testlerini yapacağız\n",
    "\n",
    "history = model.fit(\n",
    "      train_generator,\n",
    "      steps_per_epoch=15,\n",
    "      epochs=50,\n",
    "      validation_data=validation_generator,\n",
    "      validation_steps=1,\n",
    "      callbacks=[callbacks]\n",
    "      )\n",
    "      "
   ]
  },
  {
   "cell_type": "code",
   "execution_count": 6,
   "metadata": {},
   "outputs": [
    {
     "name": "stdout",
     "output_type": "stream",
     "text": [
      "Found 218 images belonging to 3 classes.\n"
     ]
    }
   ],
   "source": [
    "model.save(r'C:\\Users\\daido\\Desktop\\python\\TestModellerim\\Model15.h5')\n",
    "\n",
    "test_datagen = tensorflow.keras.preprocessing.image.ImageDataGenerator(\n",
    "        rescale=1./255\n",
    "        )\n",
    "\n",
    "test_generator = test_datagen.flow_from_directory(\n",
    "       test_yolu,\n",
    "        target_size=(224, 224),\n",
    "        batch_size=16,\n",
    "        )"
   ]
  },
  {
   "cell_type": "code",
   "execution_count": 7,
   "metadata": {},
   "outputs": [
    {
     "name": "stdout",
     "output_type": "stream",
     "text": [
      "dict_keys(['loss', 'acc', 'val_loss', 'val_acc'])\n"
     ]
    },
    {
     "data": {
      "image/png": "[encoded data removed]",
      "text/plain": [
       "<Figure size 432x288 with 1 Axes>"
      ]
     },
     "metadata": {
      "needs_background": "light"
     },
     "output_type": "display_data"
    },
    {
     "name": "stderr",
     "output_type": "stream",
     "text": [
      "C:\\Users\\daido\\AppData\\Local\\Temp\\ipykernel_9044\\2824435857.py:15: UserWarning: `Model.evaluate_generator` is deprecated and will be removed in a future version. Please use `Model.evaluate`, which supports generators.\n",
      "  test_loss, test_acc = model.evaluate_generator(test_generator, steps=50)\n"
     ]
    },
    {
     "name": "stdout",
     "output_type": "stream",
     "text": [
      "WARNING:tensorflow:Your input ran out of data; interrupting training. Make sure that your dataset or generator can generate at least `steps_per_epoch * epochs` batches (in this case, 50 batches). You may need to use the repeat() function when building your dataset.\n",
      "test acc: 0.7981651425361633\n"
     ]
    }
   ],
   "source": [
    "print(history.history.keys())\n",
    "#  \"Accuracy\"\n",
    "plt.plot(history.history['acc'])\n",
    "plt.plot(history.history['loss'])\n",
    "plt.plot(history.history['val_acc'])\n",
    "plt.plot(history.history['val_loss'])\n",
    "plt.title('model accuracy')\n",
    "plt.ylabel('accuracy')\n",
    "plt.xlabel('epoch')\n",
    "plt.legend(['train_acc', 'train_loss', 'validation_acc', 'validation_loss'], loc='upper left')\n",
    "plt.show()\n",
    "\n",
    "# burada modelimizi test ediyoruz\n",
    "\n",
    "test_loss, test_acc = model.evaluate_generator(test_generator, steps=50)\n",
    "print('test acc:', test_acc)"
   ]
  }
 ],
 "metadata": {
  "interpreter": {
   "hash": "9884dc999380f9bf1a9b0fa4f55f164ea45912eb6e73b9e33debfc434eb39068"
  },
  "kernelspec": {
   "display_name": "Python 3.10.4 64-bit",
   "language": "python",
   "name": "python3"
  },
  "language_info": {
   "codemirror_mode": {
    "name": "ipython",
    "version": 3
   },
   "file_extension": ".py",
   "mimetype": "text/x-python",
   "name": "python",
   "nbconvert_exporter": "python",
   "pygments_lexer": "ipython3",
   "version": "3.10.4"
  },
  "orig_nbformat": 4
 },
 "nbformat": 4,
 "nbformat_minor": 2
}
